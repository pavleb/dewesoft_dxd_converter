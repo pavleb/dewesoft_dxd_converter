{
 "cells": [
  {
   "cell_type": "markdown",
   "metadata": {},
   "source": [
    "# Reading DXD files directly in Python"
   ]
  },
  {
   "cell_type": "code",
   "execution_count": 58,
   "metadata": {},
   "outputs": [],
   "source": [
    "import numpy as np\n",
    "import matplotlib.pyplot as plt\n",
    "import plotly.graph_objs as go\n",
    "from tqdm import tqdm, trange\n",
    "import xml.etree.ElementTree as ET"
   ]
  },
  {
   "cell_type": "code",
   "execution_count": 59,
   "metadata": {},
   "outputs": [],
   "source": [
    "def tostr(A):\n",
    "    \"\"\"\n",
    "    Converting a list of integers into characters\n",
    "    \"\"\"\n",
    "    return ''.join([chr(x) for x in A])\n",
    "\n",
    "def get_index(A,key):\n",
    "    s = tostr(A)\n",
    "    return s.find(key)\n",
    "\n",
    "def get_addr(A,key, offset = 2):\n",
    "    ind = get_index(A,key)\n",
    "    if ind < 0:\n",
    "        raise Execption('Not found')\n",
    "        \n",
    "    st = len(key) + ind + offset\n",
    "    dt = np.dtype(np.uint32)\n",
    "    dt = dt.newbyteorder('<')\n",
    "#     print(A[st:st+8])\n",
    "    return np.frombuffer(A[st:st+8],dtype=dt)[0]\n",
    "\n",
    "def single_page_len(A, page_start):\n",
    "    ind = page_start + 8\n",
    "    while A[ind] >= 0xfe:\n",
    "        ind += 1\n",
    "    dt = np.dtype(np.uint32)\n",
    "    dt = dt.newbyteorder('<')\n",
    "\n",
    "    dtpn = np.dtype(np.int32)\n",
    "    dtpn = dtpn.newbyteorder('<')\n",
    "\n",
    "    prev_page = np.frombuffer(A[page_start+8:page_start+16], dtype=dtpn)[0]\n",
    "    next_page = np.frombuffer(A[page_start+8+8:page_start+16+8], dtype=dtpn)[0]\n",
    "\n",
    "    \n",
    "    start = ind+4\n",
    "\n",
    "\n",
    "    pg_type = np.frombuffer(A[ind:start], dtype=dt)[0]\n",
    "    return np.frombuffer(A[start:start+4],dtype=dt)[0], start+4, A[page_start + 4], pg_type, prev_page, next_page\n",
    "    \n",
    "\n",
    "def get_page_len(A, page_start):\n",
    "    return single_page_len(A, page_start)"
   ]
  },
  {
   "cell_type": "markdown",
   "metadata": {},
   "source": [
    "## Reading the DXD file raw\n",
    "This should be changed in reading the file in chunks so that the memory is not overloaded.\n",
    "However, for the purpose of this notebook, we will read the file in one go."
   ]
  },
  {
   "cell_type": "code",
   "execution_count": 60,
   "metadata": {},
   "outputs": [],
   "source": [
    "A = np.fromfile('sin_freq_9_500000_20190319_073502.dxd',dtype='uint8')"
   ]
  },
  {
   "cell_type": "markdown",
   "metadata": {},
   "source": [
    "## Locating the INDEX table"
   ]
  },
  {
   "cell_type": "code",
   "execution_count": 61,
   "metadata": {},
   "outputs": [],
   "source": [
    "search = 'INDEX'\n",
    "header = tostr(A[:2048])\n",
    "ind = header.find(search)\n",
    "st = len(search) + ind\n",
    "dt = np.dtype(np.int16)\n",
    "dt = dt.newbyteorder('<')\n",
    "index_loc = np.frombuffer(A[st:st+2],dtype=dt)[0]"
   ]
  },
  {
   "cell_type": "markdown",
   "metadata": {},
   "source": [
    "## Locating the SETUP XML page"
   ]
  },
  {
   "cell_type": "code",
   "execution_count": 62,
   "metadata": {},
   "outputs": [
    {
     "data": {
      "text/plain": [
       "'0xc00'"
      ]
     },
     "execution_count": 62,
     "metadata": {},
     "output_type": "execute_result"
    }
   ],
   "source": [
    "B = A[index_loc:index_loc+2048]\n",
    "xml_loc = get_addr(B,'SETUP',3)\n",
    "hex(xml_loc)"
   ]
  },
  {
   "cell_type": "code",
   "execution_count": 63,
   "metadata": {},
   "outputs": [],
   "source": [
    "\n",
    "xml_data = []\n",
    "pattern = [0xd, 0xa,0x00,0x00,0x00]\n",
    "total_data = 0\n",
    "while True:\n",
    "    data_len, data_start, page_ser, pg_type, prev_page, next_page = get_page_len(A,xml_loc)\n",
    "    data_start = xml_loc + 0x20\n",
    "    if next_page > -1:\n",
    "        xml_data.append(A[data_start:next_page])\n",
    "        xml_loc = next_page\n",
    "        total_data += len(A[data_start:next_page]) \n",
    "    else:\n",
    "        n, m = 20480, len(pattern)\n",
    "        indices = []\n",
    "        for i in range(data_start,data_start + n - m + 1):\n",
    "            if np.all(A[i:i+m] == pattern):\n",
    "                end_ind = i\n",
    "                break\n",
    "        else:\n",
    "            raise Exception()\n",
    "        xml_data.append(A[data_start:end_ind])\n",
    "        total_data += len(A[data_start:end_ind]) \n",
    "        break"
   ]
  },
  {
   "cell_type": "code",
   "execution_count": 64,
   "metadata": {},
   "outputs": [
    {
     "name": "stdout",
     "output_type": "stream",
     "text": [
      "Number of stored channels: 7\n"
     ]
    }
   ],
   "source": [
    "root = ET.fromstring(tostr(np.concatenate(xml_data)).strip())\n",
    "setup = list(root.iter('DewesoftSetup'))[0]\n",
    "devices = setup.findall(\".//Device[@Type='AI']\")[0]\n",
    "slots = devices.findall('.//Slot')\n",
    "\n",
    "stored_channels = setup.findall(\".//StoredChannels/Channel\")\n",
    "number_of_channels = sum(['AI' in x.attrib['Index'] for x in stored_channels])\n",
    "print(f'Number of stored channels: {number_of_channels}')"
   ]
  },
  {
   "cell_type": "markdown",
   "metadata": {},
   "source": [
    "## Reading binnary data"
   ]
  },
  {
   "cell_type": "code",
   "execution_count": 65,
   "metadata": {},
   "outputs": [
    {
     "data": {
      "text/plain": [
       "'0x11800'"
      ]
     },
     "execution_count": 65,
     "metadata": {},
     "output_type": "execute_result"
    }
   ],
   "source": [
    "db_loc = get_addr(B,'DBDATA')\n",
    "hex(db_loc)"
   ]
  },
  {
   "cell_type": "markdown",
   "metadata": {},
   "source": [
    "Finding the table of contents and storing it in a dictionary where the page type is the key."
   ]
  },
  {
   "cell_type": "code",
   "execution_count": 66,
   "metadata": {},
   "outputs": [],
   "source": [
    "next_db_loc = db_loc\n",
    "pages = []\n",
    "while next_db_loc < len(A):\n",
    "    data_len, data_start, page_ser, pg_type, prev_page, next_page = get_page_len(A,next_db_loc)\n",
    "    # print(hex(next_db_loc), hex(data_len), page_ser)\n",
    "    pages.append((data_len, data_start, page_ser, pg_type, prev_page, next_page))\n",
    "    next_db_loc = data_start + data_len\n",
    "\n",
    "sep_pages = {}\n",
    "for page in pages:\n",
    "    if page[3] not in sep_pages:\n",
    "        sep_pages[page[3]] = []\n",
    "    sep_pages[page[3]].append(page)"
   ]
  },
  {
   "cell_type": "markdown",
   "metadata": {},
   "source": [
    "Types of pages in the file"
   ]
  },
  {
   "cell_type": "code",
   "execution_count": 67,
   "metadata": {},
   "outputs": [
    {
     "data": {
      "text/plain": [
       "dict_keys([6, 8, 9, 0, 10, 826753360, 545988715])"
      ]
     },
     "execution_count": 67,
     "metadata": {},
     "output_type": "execute_result"
    }
   ],
   "source": [
    "sep_pages.keys()"
   ]
  },
  {
   "cell_type": "code",
   "execution_count": 68,
   "metadata": {},
   "outputs": [],
   "source": [
    "def load_page(data_len, data_start, page_ser, page_type, *args):\n",
    "    dt = np.dtype(np.int16)\n",
    "    dt = dt.newbyteorder('<')    \n",
    "    return np.frombuffer(A[data_start:data_start+data_len],dtype=dt)"
   ]
  },
  {
   "cell_type": "code",
   "execution_count": 70,
   "metadata": {},
   "outputs": [
    {
     "name": "stderr",
     "output_type": "stream",
     "text": [
      "100%|██████████| 6/6 [00:00<00:00, 449.34it/s]\n"
     ]
    }
   ],
   "source": [
    "ext_data = []\n",
    "\n",
    "ind = 0\n",
    "tp = 6\n",
    "wish = 0\n",
    "carry_segment = np.array([])\n",
    "for page in tqdm(sep_pages[tp]):\n",
    "    B = load_page(*page)\n",
    "    temp_arr = np.concatenate([carry_segment,B])\n",
    "    fix_len = len(temp_arr)//(number_of_channels * 1000)\n",
    "    reshaped_array = temp_arr[:fix_len*(number_of_channels*1000)].reshape(-1, 1000)\n",
    "\n",
    "    carry_segment = temp_arr[-(len(temp_arr) % (number_of_channels * 1000)):]\n",
    "    ext_data.append(reshaped_array[wish::number_of_channels,:].reshape(1,-1).squeeze())\n"
   ]
  },
  {
   "cell_type": "markdown",
   "metadata": {},
   "source": [
    "Convert and scale the `uint` data into float"
   ]
  },
  {
   "cell_type": "code",
   "execution_count": 73,
   "metadata": {},
   "outputs": [
    {
     "data": {
      "text/plain": [
       "(1.6104810129036257e-05, 0.105544483661652, -0.00645759241734273)"
      ]
     },
     "execution_count": 73,
     "metadata": {},
     "output_type": "execute_result"
    }
   ],
   "source": [
    "scale = setup.findall(f\".//Slot[@Index='{wish}']/AmplScale\")[0]\n",
    "scale = float(scale.text)\n",
    "\n",
    "interscept = setup.findall(f\".//Slot[@Index='{wish}']/AmplOffset\")[0]\n",
    "interscept = float(interscept.text)\n",
    "\n",
    "nsl = scale*10/(np.iinfo(np.uint16).max+1)\n",
    "nsl, scale, interscept"
   ]
  },
  {
   "cell_type": "code",
   "execution_count": 74,
   "metadata": {},
   "outputs": [],
   "source": [
    "eI = np.concatenate(ext_data)*nsl - interscept"
   ]
  },
  {
   "cell_type": "code",
   "execution_count": 75,
   "metadata": {},
   "outputs": [
    {
     "data": {
      "text/plain": [
       "[<matplotlib.lines.Line2D at 0x1151e0e50>]"
      ]
     },
     "execution_count": 75,
     "metadata": {},
     "output_type": "execute_result"
    },
    {
     "data": {
      "image/png": "[encoded data removed]",
      "text/plain": [
       "<Figure size 640x480 with 1 Axes>"
      ]
     },
     "metadata": {},
     "output_type": "display_data"
    }
   ],
   "source": [
    "plt.plot(eI)"
   ]
  },
  {
   "cell_type": "code",
   "execution_count": null,
   "metadata": {},
   "outputs": [],
   "source": []
  }
 ],
 "metadata": {
  "kernelspec": {
   "display_name": "PZPZ",
   "language": "python",
   "name": "python3"
  },
  "language_info": {
   "codemirror_mode": {
    "name": "ipython",
    "version": 3
   },
   "file_extension": ".py",
   "mimetype": "text/x-python",
   "name": "python",
   "nbconvert_exporter": "python",
   "pygments_lexer": "ipython3",
   "version": "3.11.5"
  }
 },
 "nbformat": 4,
 "nbformat_minor": 2
}
